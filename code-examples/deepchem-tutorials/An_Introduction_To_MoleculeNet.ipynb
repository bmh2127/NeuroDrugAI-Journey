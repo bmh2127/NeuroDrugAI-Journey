{
 "cells": [
  {
   "cell_type": "markdown",
   "metadata": {},
   "source": [
    "#  An Introduction To MoleculeNet\n",
    "By [Bharath Ramsundar](https://rbharath.github.io/) | [Twitter](https://twitter.com/rbhar90)\n",
    "\n",
    "One of the most powerful features of DeepChem is that it comes \"batteries included\" with datasets to use. The DeepChem developer community maintains the MoleculeNet [1] suite of datasets which maintains a large collection of different scientific datasets for use in machine learning applications. The original MoleculeNet suite had 17 datasets mostly focused on molecular properties. Over the last several years, MoleculeNet has evolved into a broader collection of scientific datasets to facilitate the broad use and development of scientific machine learning tools.\n",
    "\n",
    "These datasets are integrated with the rest of the DeepChem suite so you can conveniently access these through functions in the `dc.molnet` submodule. You've already seen a few examples of these loaders already as you've worked through the tutorial series. The full documentation for the MoleculeNet suite is available in our docs [2].\n",
    "\n",
    "[1] Wu, Zhenqin, et al. \"MoleculeNet: a benchmark for molecular machine learning.\" Chemical science 9.2 (2018): 513-530.\n",
    "\n",
    "[2] https://deepchem.readthedocs.io/en/latest/moleculenet.html\n",
    "\n",
    "## Colab\n",
    "\n",
    "This tutorial and the rest in this sequence can be done in Google colab. If you'd like to open this notebook in colab, you can use the following link.\n",
    "\n",
    "[![Open In Colab](https://colab.research.google.com/assets/colab-badge.svg)](https://colab.research.google.com/github/deepchem/deepchem/blob/master/examples/tutorials/An_Introduction_To_MoleculeNet.ipynb)\n",
    "\n",
    "\n",
    "## Setup\n",
    "\n",
    "To run DeepChem within Colab, you'll need to run the following installation commands. You can of course run this tutorial locally if you prefer. In that case, don't run these cells since they will download and install DeepChem again on your local machine."
   ]
  },
  {
   "cell_type": "code",
   "execution_count": 1,
   "metadata": {},
   "outputs": [
    {
     "name": "stdout",
     "output_type": "stream",
     "text": [
      "Requirement already satisfied: deepchem in /Library/Frameworks/Python.framework/Versions/3.13/lib/python3.13/site-packages (2.6.0.dev20211026183818)\n",
      "Requirement already satisfied: joblib in /Library/Frameworks/Python.framework/Versions/3.13/lib/python3.13/site-packages (from deepchem) (1.4.2)\n",
      "Requirement already satisfied: numpy in /Library/Frameworks/Python.framework/Versions/3.13/lib/python3.13/site-packages (from deepchem) (2.0.2)\n",
      "Requirement already satisfied: pandas in /Library/Frameworks/Python.framework/Versions/3.13/lib/python3.13/site-packages (from deepchem) (2.2.3)\n",
      "Requirement already satisfied: scikit-learn in /Library/Frameworks/Python.framework/Versions/3.13/lib/python3.13/site-packages (from deepchem) (1.6.1)\n",
      "Requirement already satisfied: scipy in /Library/Frameworks/Python.framework/Versions/3.13/lib/python3.13/site-packages (from deepchem) (1.15.2)\n",
      "Requirement already satisfied: python-dateutil>=2.8.2 in /Library/Frameworks/Python.framework/Versions/3.13/lib/python3.13/site-packages (from pandas->deepchem) (2.9.0.post0)\n",
      "Requirement already satisfied: pytz>=2020.1 in /Library/Frameworks/Python.framework/Versions/3.13/lib/python3.13/site-packages (from pandas->deepchem) (2025.1)\n",
      "Requirement already satisfied: tzdata>=2022.7 in /Library/Frameworks/Python.framework/Versions/3.13/lib/python3.13/site-packages (from pandas->deepchem) (2025.1)\n",
      "Requirement already satisfied: threadpoolctl>=3.1.0 in /Library/Frameworks/Python.framework/Versions/3.13/lib/python3.13/site-packages (from scikit-learn->deepchem) (3.5.0)\n",
      "Requirement already satisfied: six>=1.5 in /Library/Frameworks/Python.framework/Versions/3.13/lib/python3.13/site-packages (from python-dateutil>=2.8.2->pandas->deepchem) (1.17.0)\n"
     ]
    }
   ],
   "source": [
    "!pip install --pre deepchem"
   ]
  },
  {
   "cell_type": "markdown",
   "metadata": {},
   "source": [
    "We can now import the `deepchem` package to play with."
   ]
  },
  {
   "cell_type": "code",
   "execution_count": 2,
   "metadata": {},
   "outputs": [
    {
     "name": "stderr",
     "output_type": "stream",
     "text": [
      "No normalization for SPS. Feature removed!\n",
      "No normalization for AvgIpc. Feature removed!\n",
      "No normalization for NumAmideBonds. Feature removed!\n",
      "No normalization for NumAtomStereoCenters. Feature removed!\n",
      "No normalization for NumBridgeheadAtoms. Feature removed!\n",
      "No normalization for NumHeterocycles. Feature removed!\n",
      "No normalization for NumSpiroAtoms. Feature removed!\n",
      "No normalization for NumUnspecifiedAtomStereoCenters. Feature removed!\n",
      "No normalization for Phi. Feature removed!\n",
      "Skipped loading modules with pytorch-geometric dependency, missing a dependency. No module named 'dgl'\n"
     ]
    },
    {
     "data": {
      "text/plain": [
       "'2.8.0'"
      ]
     },
     "execution_count": 2,
     "metadata": {},
     "output_type": "execute_result"
    }
   ],
   "source": [
    "import deepchem as dc\n",
    "dc.__version__"
   ]
  },
  {
   "cell_type": "markdown",
   "metadata": {},
   "source": [
    "# MoleculeNet Overview\n",
    "\n",
    "In the last two tutorials we loaded the Delaney dataset of molecular solubilities.  Let's load it one more time."
   ]
  },
  {
   "cell_type": "code",
   "execution_count": 3,
   "metadata": {},
   "outputs": [],
   "source": [
    "tasks, datasets, transformers = dc.molnet.load_delaney(featurizer='GraphConv', splitter='random')"
   ]
  },
  {
   "cell_type": "markdown",
   "metadata": {},
   "source": [
    "Notice that the loader function we invoke `dc.molnet.load_delaney` lives in the `dc.molnet` submodule of MoleculeNet loaders. Let's take a look at the full collection of loaders available for us"
   ]
  },
  {
   "cell_type": "code",
   "execution_count": 4,
   "metadata": {},
   "outputs": [
    {
     "data": {
      "text/plain": [
       "['load_Platinum_Adsorption',\n",
       " 'load_bace_classification',\n",
       " 'load_bace_regression',\n",
       " 'load_bandgap',\n",
       " 'load_bbbc001',\n",
       " 'load_bbbc002',\n",
       " 'load_bbbc003',\n",
       " 'load_bbbc004',\n",
       " 'load_bbbc005',\n",
       " 'load_bbbp',\n",
       " 'load_cell_counting',\n",
       " 'load_chembl',\n",
       " 'load_chembl25',\n",
       " 'load_clearance',\n",
       " 'load_clintox',\n",
       " 'load_delaney',\n",
       " 'load_factors',\n",
       " 'load_freesolv',\n",
       " 'load_function',\n",
       " 'load_hiv',\n",
       " 'load_hopv',\n",
       " 'load_hppb',\n",
       " 'load_kaggle',\n",
       " 'load_kinase',\n",
       " 'load_lipo',\n",
       " 'load_mp_formation_energy',\n",
       " 'load_mp_metallicity',\n",
       " 'load_muv',\n",
       " 'load_nci',\n",
       " 'load_pcba',\n",
       " 'load_pdbbind',\n",
       " 'load_perovskite',\n",
       " 'load_ppb',\n",
       " 'load_qm7',\n",
       " 'load_qm8',\n",
       " 'load_qm9',\n",
       " 'load_sampl',\n",
       " 'load_sider',\n",
       " 'load_sweet',\n",
       " 'load_thermosol',\n",
       " 'load_tox21',\n",
       " 'load_toxcast',\n",
       " 'load_uspto',\n",
       " 'load_uv',\n",
       " 'load_zinc15']"
      ]
     },
     "execution_count": 4,
     "metadata": {},
     "output_type": "execute_result"
    }
   ],
   "source": [
    "[method for method in dir(dc.molnet) if \"load_\" in method ]"
   ]
  },
  {
   "cell_type": "markdown",
   "metadata": {},
   "source": [
    "The set of MoleculeNet loaders is actively maintained by the DeepChem community and we work on adding new datasets to the collection. Let's see how many datasets there are in MoleculeNet today"
   ]
  },
  {
   "cell_type": "code",
   "execution_count": 5,
   "metadata": {},
   "outputs": [
    {
     "data": {
      "text/plain": [
       "45"
      ]
     },
     "execution_count": 5,
     "metadata": {},
     "output_type": "execute_result"
    }
   ],
   "source": [
    "len([method for method in dir(dc.molnet) if \"load_\" in method ])"
   ]
  },
  {
   "cell_type": "markdown",
   "metadata": {},
   "source": [
    "# MoleculeNet Dataset Categories\n",
    "\n",
    "There's a lot of different datasets in MoleculeNet. Let's do a quick overview of the different types of datasets available. We'll break datasets into different categories and list loaders which belong to those categories. More details on each of these datasets can be found at https://deepchem.readthedocs.io/en/latest/moleculenet.html. The original MoleculeNet paper [1] provides details about a subset of these papers. We've marked these datasets as \"V1\" below. All remaining dataset are \"V2\" and not documented in the older paper.\n",
    "\n",
    "## Quantum Mechanical Datasets\n",
    "\n",
    "MoleculeNet's quantum mechanical datasets contain various quantum mechanical property prediction tasks. The current set of quantum mechanical datasets includes QM7, QM7b, QM8, QM9. The associated loaders are \n",
    "\n",
    "- [`dc.molnet.load_qm7`](https://deepchem.readthedocs.io/en/latest/moleculenet.html#deepchem.molnet.load_qm7): V1\n",
    "- [`dc.molnet.load_qm7b_from_mat`](https://deepchem.readthedocs.io/en/latest/moleculenet.html#deepchem.molnet.load_qm7): V1\n",
    "- [`dc.molnet.load_qm8`](https://deepchem.readthedocs.io/en/latest/moleculenet.html#deepchem.molnet.load_qm8): V1\n",
    "- [`dc.molnet.load_qm9`](https://deepchem.readthedocs.io/en/latest/moleculenet.html#deepchem.molnet.load_qm9): V1\n",
    "\n",
    "## Physical Chemistry Datasets\n",
    "\n",
    "The physical chemistry dataset collection contain a variety of tasks for predicting various physical properties of molecules.\n",
    "\n",
    "- [`dc.molnet.load_delaney`](https://deepchem.readthedocs.io/en/latest/moleculenet.html#deepchem.molnet.load_delaney): V1. This dataset is also referred to as ESOL in the original  paper.\n",
    "- [`dc.molnet.load_sampl`](https://deepchem.readthedocs.io/en/latest/moleculenet.html#deepchem.molnet.load_sampl): V1. This dataset is also referred to as FreeSolv in the original  paper.\n",
    "- [`dc.molnet.load_lipo`](https://deepchem.readthedocs.io/en/latest/moleculenet.html#deepchem.molnet.load_lipo): V1. This dataset is also referred to as Lipophilicity in the original  paper.\n",
    "- [`dc.molnet.load_thermosol`](https://deepchem.readthedocs.io/en/latest/moleculenet.html#deepchem.molnet.load_thermosol): V2.\n",
    "- [`dc.molnet.load_hppb`](https://deepchem.readthedocs.io/en/latest/moleculenet.html#deepchem.molnet.load_hppb): V2.\n",
    "- [`dc.molnet.load_hopv`](https://deepchem.readthedocs.io/en/latest/moleculenet.html#deepchem.molnet.load_hopv): V2. This dataset is drawn from a recent publication [3]\n",
    "\n",
    "## Chemical Reaction Datasets\n",
    "\n",
    "These datasets hold chemical reaction datasets for use in computational retrosynthesis / forward synthesis.\n",
    "\n",
    "- [`dc.molnet.load_uspto`](https://deepchem.readthedocs.io/en/latest/moleculenet.html#deepchem.molnet.load_uspto)\n",
    "\n",
    "## Biochemical/Biophysical Datasets\n",
    "\n",
    "These datasets are drawn from various biochemical/biophysical datasets that measure things like the binding affinity of compounds to proteins.\n",
    "\n",
    "- [`dc.molnet.load_pcba`](https://deepchem.readthedocs.io/en/latest/moleculenet.html#deepchem.molnet.load_pcba): V1\n",
    "- [`dc.molnet.load_nci`](https://deepchem.readthedocs.io/en/latest/moleculenet.html#deepchem.molnet.load_nci): V2.\n",
    "- [`dc.molnet.load_muv`](https://deepchem.readthedocs.io/en/latest/moleculenet.html#deepchem.molnet.load_muv): V1\n",
    "- [`dc.molnet.load_hiv`](https://deepchem.readthedocs.io/en/latest/moleculenet.html#deepchem.molnet.load_hiv): V1\n",
    "- [`dc.molnet.load_ppb`](https://deepchem.readthedocs.io/en/latest/moleculenet.html#ppb-datasets): V2.\n",
    "- [`dc.molnet.load_bace_classification`](https://deepchem.readthedocs.io/en/latest/moleculenet.html#deepchem.molnet.load_bace_classification): V1. This loader loads the classification task for the BACE dataset from the original MoleculeNet paper.\n",
    "- [`dc.molnet.load_bace_regression`](https://deepchem.readthedocs.io/en/latest/moleculenet.html#deepchem.molnet.load_bace_regression): V1. This loader loads the regression task for the BACE dataset from the original MoleculeNet paper.\n",
    "- [`dc.molnet.load_kaggle`](https://deepchem.readthedocs.io/en/latest/moleculenet.html#deepchem.molnet.load_kaggle): V2. This dataset is from Merck's drug discovery kaggle contest and is described in [4].\n",
    "- [`dc.molnet.load_factors`](https://deepchem.readthedocs.io/en/latest/moleculenet.html#deepchem.molnet.load_factors): V2. This dataset is from [4].\n",
    "- [`dc.molnet.load_uv`](https://deepchem.readthedocs.io/en/latest/moleculenet.html#deepchem.molnet.load_uv): V2. This dataset is from [4].\n",
    "- [`dc.molnet.load_kinase`](https://deepchem.readthedocs.io/en/latest/moleculenet.html#deepchem.molnet.load_kinase): V2. This datset is from [4].\n",
    "\n",
    "## Molecular Catalog Datasets\n",
    "\n",
    "These datasets provide molecular datasets which have no associated properties beyond the raw SMILES formula or structure. These types of datasets are useful for generative modeling tasks.\n",
    "\n",
    "- [`dc.molnet.load_zinc15`](https://deepchem.readthedocs.io/en/latest/moleculenet.html#deepchem.molnet.load_zinc15): V2\n",
    "- [`dc.molnet.load_chembl`](https://deepchem.readthedocs.io/en/latest/moleculenet.html#deepchem.molnet.load_chembl): V2\n",
    "- [`dc.molnet.load_chembl25`](https://deepchem.readthedocs.io/en/latest/moleculenet.html#chembl25-datasets): V2\n",
    "\n",
    "## Physiology Datasets\n",
    "\n",
    "These datasets measure physiological properties of how molecules interact with human patients.\n",
    "\n",
    "- [`dc.molnet.load_bbbp`](https://deepchem.readthedocs.io/en/latest/moleculenet.html#deepchem.molnet.load_bbbp): V1\n",
    "- [`dc.molnet.load_tox21`](https://deepchem.readthedocs.io/en/latest/moleculenet.html#deepchem.molnet.load_tox21): V1\n",
    "- [`dc.molnet.load_toxcast`](https://deepchem.readthedocs.io/en/latest/moleculenet.html#deepchem.molnet.load_toxcast): V1\n",
    "- [`dc.molnet.load_sider`](https://deepchem.readthedocs.io/en/latest/moleculenet.html#deepchem.molnet.load_sider): V1\n",
    "- [`dc.molnet.load_clintox`](https://deepchem.readthedocs.io/en/latest/moleculenet.html#deepchem.molnet.load_clintox): V1\n",
    "- [`dc.molnet.load_clearance`](https://deepchem.readthedocs.io/en/latest/moleculenet.html#deepchem.molnet.load_clearance): V2.\n",
    "\n",
    "## Structural Biology Datasets\n",
    "\n",
    "These datasets contain 3D structures of macromolecules along with associated properties.\n",
    "\n",
    "- [`dc.molnet.load_pdbbind`](https://deepchem.readthedocs.io/en/latest/moleculenet.html#deepchem.molnet.load_pdbbind): V1\n",
    "\n",
    "\n",
    "## Microscopy Datasets\n",
    "\n",
    "These datasets contain microscopy image datasets, typically of cell lines. These datasets were not in the original MoleculeNet paper.\n",
    "\n",
    "- [`dc.molnet.load_bbbc001`](https://deepchem.readthedocs.io/en/latest/moleculenet.html#deepchem.molnet.load_bbbc001): V2\n",
    "- [`dc.molnet.load_bbbc002`](https://deepchem.readthedocs.io/en/latest/moleculenet.html#deepchem.molnet.load_bbbc002): V2\n",
    "- [`dc.molnet.load_cell_counting`](https://deepchem.readthedocs.io/en/latest/moleculenet.html#cell-counting-datasets): V2\n",
    "\n",
    "## Materials Properties Datasets\n",
    "\n",
    "These datasets compute properties of various materials.\n",
    "\n",
    "- [`dc.molnet.load_bandgap`](https://deepchem.readthedocs.io/en/latest/moleculenet.html#deepchem.molnet.load_bandgap): V2\n",
    "- [`dc.molnet.load_perovskite`](https://deepchem.readthedocs.io/en/latest/moleculenet.html#deepchem.molnet.load_perovskite): V2\n",
    "- [`dc.molnet.load_mp_formation_energy`](https://deepchem.readthedocs.io/en/latest/moleculenet.html#deepchem.molnet.load_mp_formation_energy): V2\n",
    "- [`dc.molnet.load_mp_metallicity`](https://deepchem.readthedocs.io/en/latest/moleculenet.html#deepchem.molnet.load_mp_metallicity): V2\n",
    "\n",
    "\n",
    "[3] Lopez, Steven A., et al. \"The Harvard organic photovoltaic dataset.\" Scientific data 3.1 (2016): 1-7.\n",
    "\n",
    "[4] Ramsundar, Bharath, et al. \"Is multitask deep learning practical for pharma?.\" Journal of chemical information and modeling 57.8 (2017): 2068-2076."
   ]
  },
  {
   "cell_type": "markdown",
   "metadata": {},
   "source": [
    "# MoleculeNet Loaders Explained"
   ]
  },
  {
   "cell_type": "markdown",
   "metadata": {},
   "source": [
    "All MoleculeNet loader functions take the form `dc.molnet.load_X`. Loader functions return a tuple of arguments `(tasks, datasets, transformers)`. Let's walk through each of these return values and explain what we get:\n",
    "\n",
    "1. `tasks`: This is a list of task-names. Many datasets in MoleculeNet are \"multitask\". That is, a given datapoint has multiple labels associated with it. These correspond to different measurements or values associated with this datapoint.\n",
    "2. `datasets`: This field is a tuple of three `dc.data.Dataset` objects `(train, valid, test)`. These correspond to the training, validation, and test set for this MoleculeNet dataset.\n",
    "3. `transformers`: This field is a list of `dc.trans.Transformer` objects which were applied to this dataset during processing.\n",
    "\n",
    "This is abstract so let's take a look at each of these fields for the `dc.molnet.load_delaney` function we invoked above. Let's start with `tasks`."
   ]
  },
  {
   "cell_type": "code",
   "execution_count": 6,
   "metadata": {},
   "outputs": [
    {
     "data": {
      "text/plain": [
       "['measured log solubility in mols per litre']"
      ]
     },
     "execution_count": 6,
     "metadata": {},
     "output_type": "execute_result"
    }
   ],
   "source": [
    "tasks"
   ]
  },
  {
   "cell_type": "markdown",
   "metadata": {},
   "source": [
    "We have one task in this dataset which corresponds to the measured log solubility in mol/L. Let's now take a look at `datasets`:"
   ]
  },
  {
   "cell_type": "code",
   "execution_count": 7,
   "metadata": {},
   "outputs": [
    {
     "data": {
      "text/plain": [
       "(<DiskDataset X.shape: (np.int64(902),), y.shape: (np.int64(902), np.int64(1)), w.shape: (np.int64(902), np.int64(1)), ids: ['CC(C)C1CCC(C)CC1=O' 'CC(C)OC=O' 'CCN2c1ncccc1N(C)C(=S)c3cccnc23 ' ...\n",
       "  'CC(=O)Nc1nnc(s1)S(N)(=O)=O ' 'Fc1cccc(F)c1'\n",
       "  'OC(c1ccc(Cl)cc1)(c2ccc(Cl)cc2)C(Cl)(Cl)Cl'], task_names: ['measured log solubility in mols per litre']>,\n",
       " <DiskDataset X.shape: (np.int64(113),), y.shape: (np.int64(113), np.int64(1)), w.shape: (np.int64(113), np.int64(1)), ids: ['Clc2c(Cl)c(Cl)c(c1ccccc1)c(Cl)c2Cl ' 'Oc2ncc1nccnc1n2' 'CCCCCCCCCC(C)O'\n",
       "  ... 'CCCCc1c(C)nc(NCC)[nH]c1=O' 'Cc1cc(C)c(C)c(C)c1C'\n",
       "  'c1ccc2c(c1)cnc3ccccc23 '], task_names: ['measured log solubility in mols per litre']>,\n",
       " <DiskDataset X.shape: (np.int64(113),), y.shape: (np.int64(113), np.int64(1)), w.shape: (np.int64(113), np.int64(1)), ids: ['c2ccc1NCCc1c2 ' 'O=N(=O)OCC(CON(=O)=O)ON(=O)=O '\n",
       "  'Clc1cc(Cl)c(Cl)c(c1Cl)c2c(Cl)c(Cl)cc(Cl)c2Cl ' ...\n",
       "  'Clc1cc(Cl)c(c(Cl)c1)c2c(Cl)cc(Cl)cc2Cl ' 'CCCN(=O)=O' 'CNc1ccccc1'], task_names: ['measured log solubility in mols per litre']>)"
      ]
     },
     "execution_count": 7,
     "metadata": {},
     "output_type": "execute_result"
    }
   ],
   "source": [
    "datasets"
   ]
  },
  {
   "cell_type": "markdown",
   "metadata": {},
   "source": [
    "As we mentioned previously, we see that `datasets` is a tuple of 3 datasets. Let's split them out."
   ]
  },
  {
   "cell_type": "code",
   "execution_count": 8,
   "metadata": {},
   "outputs": [],
   "source": [
    "train, valid, test = datasets"
   ]
  },
  {
   "cell_type": "code",
   "execution_count": 16,
   "metadata": {},
   "outputs": [
    {
     "data": {
      "text/plain": [
       "<DiskDataset X.shape: (np.int64(902),), y.shape: (np.int64(902), np.int64(1)), w.shape: (np.int64(902), np.int64(1)), ids: ['CC(C)C1CCC(C)CC1=O' 'CC(C)OC=O' 'CCN2c1ncccc1N(C)C(=S)c3cccnc23 ' ...\n",
       " 'CC(=O)Nc1nnc(s1)S(N)(=O)=O ' 'Fc1cccc(F)c1'\n",
       " 'OC(c1ccc(Cl)cc1)(c2ccc(Cl)cc2)C(Cl)(Cl)Cl'], task_names: ['measured log solubility in mols per litre']>"
      ]
     },
     "execution_count": 16,
     "metadata": {},
     "output_type": "execute_result"
    }
   ],
   "source": [
    "train"
   ]
  },
  {
   "cell_type": "code",
   "execution_count": 17,
   "metadata": {},
   "outputs": [
    {
     "data": {
      "text/plain": [
       "<DiskDataset X.shape: (np.int64(113),), y.shape: (np.int64(113), np.int64(1)), w.shape: (np.int64(113), np.int64(1)), ids: ['Clc2c(Cl)c(Cl)c(c1ccccc1)c(Cl)c2Cl ' 'Oc2ncc1nccnc1n2' 'CCCCCCCCCC(C)O'\n",
       " ... 'CCCCc1c(C)nc(NCC)[nH]c1=O' 'Cc1cc(C)c(C)c(C)c1C'\n",
       " 'c1ccc2c(c1)cnc3ccccc23 '], task_names: ['measured log solubility in mols per litre']>"
      ]
     },
     "execution_count": 17,
     "metadata": {},
     "output_type": "execute_result"
    }
   ],
   "source": [
    "valid"
   ]
  },
  {
   "cell_type": "code",
   "execution_count": 18,
   "metadata": {},
   "outputs": [
    {
     "data": {
      "text/plain": [
       "<DiskDataset X.shape: (np.int64(113),), y.shape: (np.int64(113), np.int64(1)), w.shape: (np.int64(113), np.int64(1)), ids: ['c2ccc1NCCc1c2 ' 'O=N(=O)OCC(CON(=O)=O)ON(=O)=O '\n",
       " 'Clc1cc(Cl)c(Cl)c(c1Cl)c2c(Cl)c(Cl)cc(Cl)c2Cl ' ...\n",
       " 'Clc1cc(Cl)c(c(Cl)c1)c2c(Cl)cc(Cl)cc2Cl ' 'CCCN(=O)=O' 'CNc1ccccc1'], task_names: ['measured log solubility in mols per litre']>"
      ]
     },
     "execution_count": 18,
     "metadata": {},
     "output_type": "execute_result"
    }
   ],
   "source": [
    "test"
   ]
  },
  {
   "cell_type": "markdown",
   "metadata": {},
   "source": [
    "Let's peek into one of the datapoints in the `train` dataset."
   ]
  },
  {
   "cell_type": "code",
   "execution_count": 19,
   "metadata": {},
   "outputs": [
    {
     "data": {
      "text/plain": [
       "<deepchem.feat.mol_graphs.ConvMol at 0x36190c0b0>"
      ]
     },
     "execution_count": 19,
     "metadata": {},
     "output_type": "execute_result"
    }
   ],
   "source": [
    "train.X[0]"
   ]
  },
  {
   "cell_type": "markdown",
   "metadata": {},
   "source": [
    "Note that this is a `dc.feat.mol_graphs.ConvMol` object produced by `dc.feat.ConvMolFeaturizer`. We'll say more about how to control choice of featurization shortly. Finally let's take a look at the `transformers` field:"
   ]
  },
  {
   "cell_type": "code",
   "execution_count": 20,
   "metadata": {},
   "outputs": [
    {
     "data": {
      "text/plain": [
       "[<deepchem.trans.transformers.NormalizationTransformer at 0x31d68c350>]"
      ]
     },
     "execution_count": 20,
     "metadata": {},
     "output_type": "execute_result"
    }
   ],
   "source": [
    "transformers"
   ]
  },
  {
   "cell_type": "markdown",
   "metadata": {},
   "source": [
    "So we see that one transformer was applied, the `dc.trans.NormalizationTransformer`.\n",
    "\n",
    "After reading through this description so far, you may be wondering what choices are made under the hood. As we've briefly mentioned previously, datasets can be processed with different choices of \"featurizers\". Can we control the choice of featurization here? In addition, how was the source dataset split into train/valid/test as three different datasets? \n",
    "\n",
    "You can use the 'featurizer' and 'splitter' keyword arguments and pass in different strings. Common possible choices for 'featurizer' are 'ECFP', 'GraphConv', 'Weave' and 'smiles2img' corresponding to the `dc.feat.CircularFingerprint`, `dc.feat.ConvMolFeaturizer`, `dc.feat.WeaveFeaturizer` and `dc.feat.SmilesToImage` featurizers. Common possible choices for 'splitter' are `None`, 'index', 'random', 'scaffold' and 'stratified' corresponding to no split, `dc.splits.IndexSplitter`, `dc.splits.RandomSplitter`, `dc.splits.SingletaskStratifiedSplitter`. We haven't talked much about splitters yet, but intuitively they're a way to partition a dataset based on different criteria. We'll say more in a future tutorial.\n",
    "\n",
    "Instead of a string, you also can pass in any `Featurizer` or `Splitter` object.  This is very useful when, for example, a Featurizer has constructor arguments you can use to customize its behavior."
   ]
  },
  {
   "cell_type": "code",
   "execution_count": 13,
   "metadata": {},
   "outputs": [],
   "source": [
    "tasks, datasets, transformers = dc.molnet.load_delaney(featurizer=\"ECFP\", splitter=\"scaffold\")"
   ]
  },
  {
   "cell_type": "code",
   "execution_count": 14,
   "metadata": {},
   "outputs": [],
   "source": [
    "(train, valid, test) = datasets"
   ]
  },
  {
   "cell_type": "code",
   "execution_count": 15,
   "metadata": {},
   "outputs": [
    {
     "data": {
      "text/plain": [
       "<DiskDataset X.shape: (902, 1024), y.shape: (902, 1), w.shape: (902, 1), ids: ['CC(C)=CCCC(C)=CC(=O)' 'CCCC=C' 'CCCCCCCCCCCCCC' ...\n",
       " 'Nc2cccc3nc1ccccc1cc23 ' 'C1CCCCCC1' 'OC1CCCCCC1'], task_names: ['measured log solubility in mols per litre']>"
      ]
     },
     "execution_count": 15,
     "metadata": {},
     "output_type": "execute_result"
    }
   ],
   "source": [
    "train"
   ]
  },
  {
   "cell_type": "code",
   "execution_count": 16,
   "metadata": {},
   "outputs": [
    {
     "data": {
      "text/plain": [
       "array([0., 0., 0., ..., 0., 0., 0.])"
      ]
     },
     "execution_count": 16,
     "metadata": {},
     "output_type": "execute_result"
    }
   ],
   "source": [
    "train.X[0]"
   ]
  },
  {
   "cell_type": "markdown",
   "metadata": {},
   "source": [
    "Note that unlike the earlier invocation we have numpy arrays produced by `dc.feat.CircularFingerprint` instead of `ConvMol` objects produced by `dc.feat.ConvMolFeaturizer`.\n",
    "\n",
    "Give it a try for yourself. Try invoking MoleculeNet to load some other datasets and experiment with different featurizer/split options and see what happens!"
   ]
  },
  {
   "cell_type": "code",
   "execution_count": 24,
   "metadata": {},
   "outputs": [],
   "source": [
    "tasks, datasets, transformers = dc.molnet.load_cell_counting()"
   ]
  },
  {
   "cell_type": "code",
   "execution_count": 26,
   "metadata": {},
   "outputs": [
    {
     "data": {
      "text/plain": [
       "array([[[ 0,  0,  4],\n",
       "        [ 0,  0,  4],\n",
       "        [ 1,  1,  9],\n",
       "        ...,\n",
       "        [ 1,  1, 65],\n",
       "        [ 0,  0, 62],\n",
       "        [ 0,  0, 62]],\n",
       "\n",
       "       [[ 0,  0,  5],\n",
       "        [ 2,  1,  7],\n",
       "        [ 0,  0,  8],\n",
       "        ...,\n",
       "        [ 1,  1, 65],\n",
       "        [ 1,  1, 63],\n",
       "        [ 0,  0, 62]],\n",
       "\n",
       "       [[ 0,  0,  8],\n",
       "        [ 0,  0,  8],\n",
       "        [ 1,  0,  8],\n",
       "        ...,\n",
       "        [ 0,  0, 62],\n",
       "        [ 0,  0, 62],\n",
       "        [ 0,  0, 61]],\n",
       "\n",
       "       ...,\n",
       "\n",
       "       [[ 0,  2, 57],\n",
       "        [ 0,  0, 53],\n",
       "        [ 0,  0, 54],\n",
       "        ...,\n",
       "        [ 1,  0,  8],\n",
       "        [ 1,  1, 13],\n",
       "        [ 1,  0, 14]],\n",
       "\n",
       "       [[ 0,  0, 57],\n",
       "        [ 0,  0, 56],\n",
       "        [ 0,  0, 52],\n",
       "        ...,\n",
       "        [ 1,  0,  8],\n",
       "        [ 0,  0, 12],\n",
       "        [ 0,  0, 12]],\n",
       "\n",
       "       [[ 1,  1, 61],\n",
       "        [ 0,  1, 58],\n",
       "        [ 0,  0, 52],\n",
       "        ...,\n",
       "        [ 0,  0,  7],\n",
       "        [ 0,  0, 11],\n",
       "        [ 1,  1, 13]]], dtype=uint8)"
      ]
     },
     "execution_count": 26,
     "metadata": {},
     "output_type": "execute_result"
    }
   ],
   "source": [
    "datasets[0].X[0]"
   ]
  },
  {
   "cell_type": "code",
   "execution_count": 28,
   "metadata": {},
   "outputs": [],
   "source": [
    "tasks, datasets, transformers = dc.molnet.load_bbbc001()"
   ]
  },
  {
   "cell_type": "code",
   "execution_count": 29,
   "metadata": {},
   "outputs": [
    {
     "data": {
      "text/plain": [
       "['cell-count']"
      ]
     },
     "execution_count": 29,
     "metadata": {},
     "output_type": "execute_result"
    }
   ],
   "source": [
    "tasks"
   ]
  },
  {
   "cell_type": "code",
   "execution_count": 30,
   "metadata": {},
   "outputs": [
    {
     "data": {
      "text/plain": [
       "array([[59, 54, 51, ..., 10, 11, 10],\n",
       "       [58, 55, 56, ..., 10, 10, 10],\n",
       "       [56, 55, 56, ..., 11, 10,  9],\n",
       "       ...,\n",
       "       [12, 10, 11, ..., 11, 10, 10],\n",
       "       [10,  9, 10, ...,  9, 10, 10],\n",
       "       [10, 11,  9, ..., 10, 10, 10]], dtype=uint8)"
      ]
     },
     "execution_count": 30,
     "metadata": {},
     "output_type": "execute_result"
    }
   ],
   "source": [
    "datasets[0].X[0]"
   ]
  },
  {
   "cell_type": "markdown",
   "metadata": {},
   "source": [
    "# Congratulations! Time to join the Community!\n",
    "\n",
    "Congratulations on completing this tutorial notebook! If you enjoyed working through the tutorial, and want to continue working with DeepChem, we encourage you to finish the rest of the tutorials in this series. You can also help the DeepChem community in the following ways:\n",
    "\n",
    "## Star DeepChem on [GitHub](https://github.com/deepchem/deepchem)\n",
    "This helps build awareness of the DeepChem project and the tools for open source drug discovery that we're trying to build.\n",
    "\n",
    "## Join the DeepChem Discord\n",
    "The DeepChem [Discord](https://discord.gg/cGzwCdrUqS) hosts a number of scientists, developers, and enthusiasts interested in deep learning for the life sciences. Join the conversation!"
   ]
  }
 ],
 "metadata": {
  "kernelspec": {
   "display_name": ".venv",
   "language": "python",
   "name": "python3"
  },
  "language_info": {
   "codemirror_mode": {
    "name": "ipython",
    "version": 3
   },
   "file_extension": ".py",
   "mimetype": "text/x-python",
   "name": "python",
   "nbconvert_exporter": "python",
   "pygments_lexer": "ipython3",
   "version": "3.12.9"
  }
 },
 "nbformat": 4,
 "nbformat_minor": 4
}
